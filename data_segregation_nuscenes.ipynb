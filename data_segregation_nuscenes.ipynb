{
  "nbformat": 4,
  "nbformat_minor": 0,
  "metadata": {
    "colab": {
      "provenance": []
    },
    "kernelspec": {
      "name": "python3",
      "display_name": "Python 3"
    },
    "language_info": {
      "name": "python"
    }
  },
  "cells": [
    {
      "cell_type": "markdown",
      "source": [
        "This section contains the code to split the extracted data and then merge it into a directory. Code can be analyzed in individual cells.\n"
      ],
      "metadata": {
        "id": "qHl-pAV-a0pJ"
      }
    },
    {
      "cell_type": "code",
      "execution_count": null,
      "metadata": {
        "id": "03tMVvEGsG1F"
      },
      "outputs": [],
      "source": [
        "# Import the libraries here\n",
        "import os \n",
        "import shutil\n",
        "import numpy as np"
      ]
    },
    {
      "cell_type": "code",
      "source": [
        "# If necessary, check subdirectories inside the main files\n",
        "\n",
        "subfolders_dest = [ f.path for f in os.scandir('/dest/path/') if f.is_dir() ]\n", # subfolders present in the destination folder
        "subfolders_dest_sweeps = [ f.path for f in os.scandir(subfolders_dest[0]) if f.is_dir() ]\n",
        "subfolders_dest_samples = [ f.path for f in os.scandir(subfolders_dest[1]) if f.is_dir() ]\n",
        "subfolders = [ f.path for f in os.scandir('/path/with/all/data/') if f.is_dir() ]"
      ],
      "metadata": {
        "id": "Ce8bZ7H3shDz"
      },
      "execution_count": null,
      "outputs": []
    },
    {
      "cell_type": "code",
      "source": [
        "# If in sub-sub-sub^(3)-files, directories\n",
        "\n",
        "subfolder1 = [ f.path for f in os.scandir(subfolders[0]) if f.is_dir() ]\n",
        "subfolder2 = [ f.path for f in os.scandir(subfolder1[0]) if f.is_dir() ]\n",
        "subfolder3 = [ f.path for f in os.scandir(subfolder2[0]) if f.is_dir() ]\n",
        "subfolders"
      ],
      "metadata": {
        "id": "9-hGc8d_smZS"
      },
      "execution_count": null,
      "outputs": []
    },
    {
      "cell_type": "code",
      "source": [
        "# For verification levels only\n",
        "\n",
        "subfolder_sweeps = [ f.path for f in os.scandir(subfolder2[0]) if f.is_dir() ]\n",
        "#print(subfolder2[0])\n",
        "subfolders_dest_sweeps[0]"
      ],
      "metadata": {
        "id": "-ZjlNM_hstFQ"
      },
      "execution_count": null,
      "outputs": []
    },
    {
      "cell_type": "code",
      "source": [
        "# Here is the main code to convert the data.\n",
        "\n",
        "destination_folder_samples = 'path/of/data/samples/'\n",
        "destination_folder_sweeps = 'path/of/data/sweeps'\n",
        "for i in np.arange(len(subfolders)):\n",
        "    subfolder1 = [ f.path for f in os.scandir(subfolders[i]) if f.is_dir() ]\n",
        "    subfolder2 = [ f.path for f in os.scandir(subfolder1[0]) if f.is_dir() ]\n",
        "    subfolder_sweeps = [ f.path for f in os.scandir(subfolder2[0]) if f.is_dir() ]\n",
        "    subfolder_samples = [ f.path for f in os.scandir(subfolder2[1]) if f.is_dir() ]\n",
        "    for j in np.arange(len(subfolder_sweeps)):\n",
        "        for file_name in os.listdir(subfolder_sweeps[j]):\n",
        "            source = subfolder_sweeps[j] + '/'+ file_name\n",
        "            print(source)\n",
        "            destination = subfolders_dest_sweeps[j] + '/'+file_name\n",
        "            print(destination)\n",
        "            shutil.copy(source, destination)\n",
        "            print('copied sweep'); print(destination)\n",
        "    for k in np.arange(len(subfolder_samples)):\n",
        "        for file_name1 in os.listdir(subfolder_samples[k]):\n",
        "            source1 = subfolder_samples[k] + '/' + file_name1\n",
        "            destination1 = subfolders_dest_samples[k] + '/'+ file_name1\n",
        "            shutil.copy(source1, destination1)\n",
        "            print('copied sample'); print(destination1)\n",
        "print('done');"
      ],
      "metadata": {
        "id": "f5V6ufpXstu8"
      },
      "execution_count": null,
      "outputs": []
    }
  ]
}
